{
 "cells": [
  {
   "cell_type": "markdown",
   "id": "vulnerable-senator",
   "metadata": {},
   "source": [
    "# Three coils PSO Optimization from Article:\n",
    "### Particle Swarm Optimization for Multiple Dipole\n",
    "### Modeling of Space Equipment\n",
    "\n",
    "\n",
    "## Yako Irusta Salles"
   ]
  },
  {
   "cell_type": "code",
   "execution_count": 18,
   "id": "pressed-logistics",
   "metadata": {},
   "outputs": [
    {
     "name": "stderr",
     "output_type": "stream",
     "text": [
      "fatal: destination path 'optimizacion_PSO_python' already exists and is not an empty directory.\n"
     ]
    }
   ],
   "source": [
    "# Installation of the PSO library used in this program\n",
    "\n",
    "!git clone https://github.com/JoaquinAmatRodrigo/optimizacion_PSO_python.git\n",
    "    \n",
    "#Cloning into 'optimizacion_PSO_python'...    "
   ]
  },
  {
   "cell_type": "code",
   "execution_count": 19,
   "id": "unique-exhibit",
   "metadata": {},
   "outputs": [],
   "source": [
    "import numpy as np\n",
    "from numpy import random\n",
    "import math \n",
    "import matplotlib.pyplot as plt\n",
    "\n",
    "from PSO_python import Enjambre\n",
    "from PSO_python import Particula"
   ]
  },
  {
   "cell_type": "code",
   "execution_count": 20,
   "id": "metric-times",
   "metadata": {},
   "outputs": [],
   "source": [
    "File_Data_2='./INPUT_READ_FILES/ThreeCoils_MagneticField_PSO-Article-Theta80_R500mm.txt'"
   ]
  },
  {
   "cell_type": "code",
   "execution_count": 21,
   "id": "sticky-vatican",
   "metadata": {},
   "outputs": [],
   "source": [
    "#Lectura de los datos del fichero \"File_Data\"\n",
    "R=np.loadtxt(File_Data_2, usecols=[0])\n",
    "θ=np.loadtxt(File_Data_2, usecols=[1])\n",
    "ϕ=np.loadtxt(File_Data_2, usecols=[2])\n",
    "\n",
    "Bx_meas=np.loadtxt(File_Data_2, usecols=[3])\n",
    "By_meas=np.loadtxt(File_Data_2, usecols=[4])\n",
    "Bz_meas=np.loadtxt(File_Data_2, usecols=[5])"
   ]
  },
  {
   "cell_type": "markdown",
   "id": "photographic-stationery",
   "metadata": {},
   "source": [
    "We need to find the position of the magnetometers in spherical coordinates so we calculate it with the following expressions:\n",
    "\n",
    "$R=\\sqrt{x^2+y^2+z^2}$\n",
    "\n",
    "$\\theta=arccos \\left(\\frac{z}{\\sqrt{x^2+y^2+z^2}}\\right)$\n",
    "\n",
    "$\\phi=arctan\\left(\\frac{y}{x}\\right)$"
   ]
  },
  {
   "cell_type": "code",
   "execution_count": 22,
   "id": "sunrise-breathing",
   "metadata": {},
   "outputs": [],
   "source": [
    "X=R*np.sin(θ)*np.cos(ϕ)\n",
    "Y=R*np.sin(θ)*np.sin(ϕ)\n",
    "Z=R*np.cos(θ)"
   ]
  },
  {
   "cell_type": "markdown",
   "id": "unavailable-trouble",
   "metadata": {},
   "source": [
    "We need to definde the dipole approximation formula to calculate the magnetic field:\n",
    "\n",
    "Comentar variables:\n",
    "\n",
    "$\\textbf{m}$: Magnetic moment vector with components $m_x$, $m_y$ and $m_z$.\n",
    "\n",
    "$\\textbf{r}$: Position vector modulus defined as $r=\\sqrt{(x-x_0)^2+(y-y_0)^2+(z-z_0)^2}$.\n",
    "\n",
    "$x_0$, $y_0$, $z_0$: Initial position of the dipole.\n",
    "Units: \n",
    "\n",
    "$\\left[ r \\right]$=$m$\n",
    "\n",
    "$\\left[ m \\right]$=$Am^2$\n",
    "\n",
    "\n",
    "$\\textbf{B}_x=\\dfrac{\\mu_0 }{4\\pi}\\left(\\dfrac{3\\left(m_x(x-x_0)+m_y(y-y_0)+m_z(z-z_0)\\right)(x-x_0)}{r^5}-\\dfrac{m_x}{r^3}\\right) $\n",
    "\n",
    "$\\textbf{B}_y=\\dfrac{\\mu_0 }{4\\pi}\\left(\\dfrac{3\\left(m_x(x-x_0)+m_y(y-y_0)+m_z(z-z_0)\\right)(y-y_0)}{r^5}-\\dfrac{m_y}{r^3}\\right) $\n",
    "\n",
    "$\\textbf{B}_z=\\dfrac{\\mu_0 }{4\\pi}\\left(\\dfrac{3\\left(m_x(x-x_0)+m_y(y-y_0)+m_z(z-z_0)\\right)(z-z_0)}{r^5}-\\dfrac{m_z}{r^3}\\right) $"
   ]
  },
  {
   "cell_type": "code",
   "execution_count": 23,
   "id": "material-component",
   "metadata": {},
   "outputs": [],
   "source": [
    "##############################################################################################################################\n",
    "\n",
    "def Magnetic_Field(R,mx,my,mz,mR,x0,y0,z0):\n",
    "    #IN:\n",
    "        #R: Modulo del vector posicion\n",
    "        #mx, my, mz: Momentos dipolares\n",
    "    mu=4.0*math.pi*10**(-7.0)\n",
    "    k=mu/(4.0*math.pi)\n",
    "    \n",
    "    Bx_PSO=-k*((mx/R**3)-((3.0*(X-x0)*mR)/R**5))\n",
    "    By_PSO=-k*((my/R**3)-((3.0*(Y-y0)*mR)/R**5))\n",
    "    Bz_PSO=-k*((mz/R**3)-((3.0*(Z-z0)*mR)/R**5))\n",
    "    \n",
    "    return Bx_PSO,By_PSO,Bz_PSO"
   ]
  },
  {
   "cell_type": "markdown",
   "id": "executed-globe",
   "metadata": {},
   "source": [
    "We define the two fitness functions used in this program to optimize our values calculated with the PSO:\n",
    "\n",
    " -Fitness Function 1: \n",
    "\n",
    "$F_1=\\dfrac{\\sqrt{\\sum_{i=0}^{M-1}\\left[\\left(B_{x}^{(meas)}\\left[i\\right]-B_{x}^{(PSO)}\\left[i\\right]\\right)^2+\\left(B_{y}^{(meas)}\\left[i\\right]-B_{y}^{(PSO)}\\left[i\\right]\\right)^2+\\left(B_{z}^{(meas)}\\left[i\\right]-B_{z}^{(PSO)}\\left[i\\right]\\right)^2\\right]}}{\\sqrt{\\sum_{i=0}^{M-1}\\left[\\left(B_{x}^{(meas)}\\left[i\\right]\\right)^2+\\left(B_{y}^{(meas)}\\left[i\\right]\\right)^2+\\left(B_{z}^{(meas)}\\left[i\\right]\\right)^2\\right]}}$\n",
    "\n",
    "-Fitness Function 2: \n",
    "\n",
    "$F_2=\\dfrac{\\sum_{i=0}^{M-1}\\left(B_{x}^{(meas)}\\left[i\\right]-B_{x}^{(PSO)}\\left[i\\right]\\right)^2}{\\sum_{i=0}^{M-1}\\left(B_{x}^{(meas)}\\left[i\\right]\\right)^2}+\\dfrac{\\sum_{i=0}^{M-1}\\left(B_{y}^{(meas)}\\left[i\\right]-B_{y}^{(PSO)}\\left[i\\right]\\right)^2}{\\sum_{i=0}^{M-1}\\left(B_{y}^{(meas)}\\left[i\\right]\\right)^2}+\\dfrac{\\sum_{i=0}^{M-1}\\left(B_{z}^{(meas)}\\left[i\\right]-B_{z}^{(PSO)}\\left[i\\right]\\right)^2}{\\sum_{i=0}^{M-1}\\left(B_{z}^{(meas)}\\left[i\\right]\\right)^2}$\n",
    "\n",
    "-Fitness Function: \n",
    "\n",
    "$F^{(n)}=F_{2}^{(n)}\\left(\\dfrac{F_{2}^{(n-1)}}{F_{1}^{(n-1)}}\\right)+F_{1}^{(n)}\\left(\\dfrac{F_{1}^{(n-1)}}{F_{2}^{(n-1)}}\\right)$"
   ]
  },
  {
   "cell_type": "code",
   "execution_count": 24,
   "id": "phantom-group",
   "metadata": {},
   "outputs": [],
   "source": [
    "##############################################################################################################################\n",
    "############################################################################################################################\n",
    "#FUNCTION: FitnessFunction1\n",
    "# -) IN variables:\n",
    "#    # -) Bx_PSO, By_PSO, Bz_PSO: Magnetic field calculated with the dipole approximation calculated with the function Magnetic_Field\n",
    "#  \n",
    "# -) OUT variables: \n",
    "#    # -) F1: Value of the fitness function 1 calculated with the function shown\n",
    "############################################################################################################################\n",
    "def FitnessFunction_F1(Bx_PSO,By_PSO,Bz_PSO):\n",
    "    \n",
    "    length=len(Bx_meas)-1    \n",
    "    sum_num_B=0.0\n",
    "    sum_den_B=0.0\n",
    "    \n",
    "    for i in range(0,length):\n",
    "        sum_num_B=sum_num_B+((Bx_meas[i]-Bx_PSO[i])**2.0+(By_meas[i]-By_PSO[i])**2.0+(Bz_meas[i]-Bz_PSO[i])**2.0)\n",
    "        sum_den_B=sum_den_B+(Bx_meas[i]**2.0+By_meas[i]**2.0+Bz_meas[i]**2.0)\n",
    "    \n",
    "    F1=np.sqrt(sum_num_B/sum_den_B)\n",
    "    \n",
    "    return F1"
   ]
  },
  {
   "cell_type": "code",
   "execution_count": 25,
   "id": "sacred-salem",
   "metadata": {},
   "outputs": [],
   "source": [
    "##############################################################################################################################\n",
    "############################################################################################################################\n",
    "#FUNCTION: FitnessFunction2\n",
    "# -) IN variables:\n",
    "#    # -) Bx_PSO, By_PSO, Bz_PSO: Magnetic field calculated with the dipole approximation calculated with the function Magnetic_Field\n",
    "#  \n",
    "# -) OUT variables: \n",
    "#    # -) F1: Value of the fitness function 2 calculated with the function shown\n",
    "############################################################################################################################\n",
    "def FitnessFunction_F2(Bx_PSO,By_PSO,Bz_PSO):\n",
    "    \n",
    "    length=len(Bx_meas)-1\n",
    "    sum_num_Bx=0.0\n",
    "    sum_num_By=0.0\n",
    "    sum_num_Bz=0.0\n",
    "    sum_den_Bx=0.0\n",
    "    sum_den_By=0.0\n",
    "    sum_den_Bz=0.0\n",
    "\n",
    "    for i in range(0,length):\n",
    "        sum_num_Bx=sum_num_Bx+(Bx_meas[i]-Bx_PSO[i])**2.0\n",
    "        sum_num_By=sum_num_By+(By_meas[i]-By_PSO[i])**2.0\n",
    "        sum_num_By=sum_num_By+(Bz_meas[i]-Bz_PSO[i])**2.0\n",
    "        \n",
    "        sum_den_Bx=sum_den_Bx+(Bx_meas[i])**2.0\n",
    "        sum_den_By=sum_den_By+(By_meas[i])**2.0\n",
    "        sum_den_Bz=sum_den_Bz+(Bz_meas[i])**2.0\n",
    "        \n",
    "    xnum_Bx=sum_num_Bx/sum_den_Bx\n",
    "    xnum_By=sum_num_By/sum_den_By\n",
    "    xnum_Bz=sum_num_Bz/sum_den_Bz    \n",
    "        \n",
    "    F2=xnum_Bx+xnum_By+xnum_Bz\n",
    "    \n",
    "    return F2"
   ]
  },
  {
   "cell_type": "code",
   "execution_count": 26,
   "id": "empirical-wichita",
   "metadata": {},
   "outputs": [],
   "source": [
    "##############################################################################################################################\n",
    "############################################################################################################################\n",
    "#FUNCTION: FitnessFunction_Ini\n",
    "# -) IN variables:\n",
    "#    # -) x0, y0, z0: Position components calculated with the PSO algorithm.\n",
    "#    # -) mx, my, mz: Magnetic moments calculated with the PSO algorithm.\n",
    "#\n",
    "# -) OUT variables: \n",
    "#    # -) F: Initial fitness function value calculated with the function shown to initialize the value.\n",
    "############################################################################################################################\n",
    "def FitnessFunction_Ini(x0,y0,z0,mx,my,mz):\n",
    "    \n",
    "    global F1_0\n",
    "    global F2_0\n",
    "    \n",
    "    F1_0=random.rand()\n",
    "    F2_0=random.rand()\n",
    "    \n",
    "    R=np.sqrt((X-x0)**2+(Y-y0)**2+(Z-z0)**2)  \n",
    "    mR=mx*(X-x0)+my*(Y-y0)+mz*(Z-z0)\n",
    "\n",
    "    #Componentes vectoriales Bx, By, Bz de campo magnetico generado por la bobina 1    \n",
    "    Bx,By,Bz=Magnetic_Field(R,mx,my,mz,mR,x0,y0,z0)\n",
    "    \n",
    "    F1=FitnessFunction_F1(Bx,By,Bz)\n",
    "    F2=FitnessFunction_F2(Bx,By,Bz)\n",
    "    F=F2*(F2_0/F1_0)+F1*(F1_0/F2_0)\n",
    "    \n",
    "    return F1"
   ]
  },
  {
   "cell_type": "code",
   "execution_count": 27,
   "id": "regional-czech",
   "metadata": {},
   "outputs": [],
   "source": [
    "##############################################################################################################################\n",
    "############################################################################################################################\n",
    "#FUNCTION: FitnessFunction\n",
    "# -) IN variables:\n",
    "#    # -) x0, y0, z0: Position components calculated with the PSO algorithm.\n",
    "#    # -) mx, my, mz: Magnetic moments calculated with the PSO algorithm.\n",
    "#\n",
    "# -) OUT variables: \n",
    "#    # -) F: Fitness function value used to fit our values calculated with the PSO to the measured values.\n",
    "############################################################################################################################\n",
    "def FitnessFunction(x0,y0,z0,mx,my,mz):\n",
    "    \n",
    "    global F1_0\n",
    "    global F2_0\n",
    "    \n",
    "    R=np.sqrt((X-x0)**2+(Y-y0)**2+(Z-z0)**2)  \n",
    "    mR=mx*(X-x0)+my*(Y-y0)+mz*(Z-z0)\n",
    "\n",
    "    #Componentes vectoriales Bx, By, Bz de campo magnetico generado por la bobina 1    \n",
    "    Bx,By,Bz=Magnetic_Field(R,mx,my,mz,mR,x0,y0,z0)\n",
    "    \n",
    "    F1=FitnessFunction_F1(Bx,By,Bz)\n",
    "    F2=FitnessFunction_F2(Bx,By,Bz)\n",
    "    \n",
    "    F=F2*(F2_0/F1_0)+F1*(F1_0/F2_0)\n",
    "    F2_0=F2\n",
    "    F1_0=F1\n",
    "\n",
    "    return F1"
   ]
  },
  {
   "cell_type": "code",
   "execution_count": 28,
   "id": "political-smart",
   "metadata": {},
   "outputs": [],
   "source": [
    "#Definition of the swarm used in this program\n",
    "#SWARM Properties: \n",
    "#   # -) Number of particles: 32\n",
    "#   # -) Number of variables: 6(3 position varibles[x,y,z] and 3 magnetic moment varibles[mx,my,mz])\n",
    "#   # -) Lower limit of the variables: [-15,-15,-15(position limits),-800,-800,-800(magnetic moment limits)]\n",
    "#   # -) Upper limit of the variables: [15,15,15(position limits),800,800,800(magnetic moment limits)]\n",
    "swarm=Enjambre(\n",
    "    n_particulas = 32,\n",
    "    n_variables  = 6,\n",
    "    limites_inf  = [-15,-15,-15,-800,-800,-800],\n",
    "    limites_sup  = [15,15,15,800,800,800],\n",
    "    verbose      = False\n",
    "    )"
   ]
  },
  {
   "cell_type": "code",
   "execution_count": 29,
   "id": "egyptian-headline",
   "metadata": {},
   "outputs": [],
   "source": [
    "#We evaluate our swarm created to determine the initial value for the fitness function .\n",
    "#Optimization: Find minimum value.\n",
    "swarm.evaluar_enjambre(\n",
    "    funcion_objetivo=FitnessFunction_Ini,\n",
    "    optimizacion=\"minimizar\",\n",
    "    verbose=False\n",
    ")"
   ]
  },
  {
   "cell_type": "code",
   "execution_count": 32,
   "id": "deluxe-order",
   "metadata": {},
   "outputs": [
    {
     "name": "stdout",
     "output_type": "stream",
     "text": [
      "-------------------------------------------\n",
      "Optimización finalizada 2021-06-13 22:59:47\n",
      "-------------------------------------------\n",
      "Duración optimización: 19.69967031478882\n",
      "Número de iteraciones: 499\n",
      "Posición óptima: [0.08002089497641354 2.4399287797047906e-05 0.4799671731490812\n",
      " 158.3707089320713 -211.2073171861465 166.43966594899794]\n",
      "Valor óptimo: 0.002349091215076864\n",
      "\n"
     ]
    }
   ],
   "source": [
    "#Optimization of our swarm.\n",
    "#Optimization properties: \n",
    "#   # -) Function to fit: FitnessFunction.\n",
    "#   # -) Optimization: Find minimum.\n",
    "#   # -) Number of itinerations: 500\n",
    "#   # -) Tolerance: 10**(-8)\n",
    "swarm.optimizar(\n",
    "    funcion_objetivo  = FitnessFunction,\n",
    "    optimizacion      = \"minimizar\",\n",
    "    n_iteraciones     = 500,\n",
    "    inercia           = 1.0,\n",
    "    reduc_inercia     = True,\n",
    "    inercia_max       = 1.0,\n",
    "    inercia_min       = 0.6,\n",
    "    peso_cognitivo    = 1.5,\n",
    "    peso_social       = 1.5,\n",
    "    parada_temprana   = True,\n",
    "    rondas_parada     = 5,\n",
    "    tolerancia_parada = 10**-8,\n",
    "    verbose           = False   \n",
    ")\n",
    "#Program running duration estimate: 230s"
   ]
  },
  {
   "cell_type": "code",
   "execution_count": 33,
   "id": "guided-cassette",
   "metadata": {},
   "outputs": [
    {
     "data": {
      "text/plain": [
       "<AxesSubplot:xlabel='Itineration', ylabel='Fitness Function'>"
      ]
     },
     "execution_count": 33,
     "metadata": {},
     "output_type": "execute_result"
    },
    {
     "data": {
      "image/png": "[encoded data removed]",
      "text/plain": [
       "<Figure size 576x360 with 1 Axes>"
      ]
     },
     "metadata": {
      "needs_background": "light"
     },
     "output_type": "display_data"
    }
   ],
   "source": [
    "#Plot of the fitness values obtained during the compilation of the program\n",
    "#X label: Number of itinerations\n",
    "#Y Label: Fitness values \n",
    "figure_fitness_values=plt.figure(figsize=(8,5))\n",
    "plt.grid()\n",
    "plt.xlabel('Itineration')\n",
    "plt.ylabel('Fitness Function')\n",
    "figure_fitness_values.suptitle('Fitness Functions values in relation to the initineration')\n",
    "swarm.resultados_df['mejor_valor_enjambre'].plot()"
   ]
  },
  {
   "cell_type": "code",
   "execution_count": null,
   "id": "stainless-landing",
   "metadata": {},
   "outputs": [],
   "source": []
  },
  {
   "cell_type": "code",
   "execution_count": null,
   "id": "unauthorized-retro",
   "metadata": {},
   "outputs": [],
   "source": []
  },
  {
   "cell_type": "code",
   "execution_count": null,
   "id": "advisory-logic",
   "metadata": {},
   "outputs": [],
   "source": []
  }
 ],
 "metadata": {
  "kernelspec": {
   "display_name": "Python 3",
   "language": "python",
   "name": "python3"
  },
  "language_info": {
   "codemirror_mode": {
    "name": "ipython",
    "version": 3
   },
   "file_extension": ".py",
   "mimetype": "text/x-python",
   "name": "python",
   "nbconvert_exporter": "python",
   "pygments_lexer": "ipython3",
   "version": "3.9.5"
  }
 },
 "nbformat": 4,
 "nbformat_minor": 5
}
